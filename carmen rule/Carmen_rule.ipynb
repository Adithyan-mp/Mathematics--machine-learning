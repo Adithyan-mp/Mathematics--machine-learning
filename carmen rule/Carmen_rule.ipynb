{
  "nbformat": 4,
  "nbformat_minor": 0,
  "metadata": {
    "colab": {
      "provenance": []
    },
    "kernelspec": {
      "name": "python3",
      "display_name": "Python 3"
    },
    "language_info": {
      "name": "python"
    }
  },
  "cells": [
    {
      "cell_type": "code",
      "execution_count": 1,
      "metadata": {
        "id": "QB_MDmT5ZcXf"
      },
      "outputs": [],
      "source": [
        "import numpy as np"
      ]
    },
    {
      "cell_type": "code",
      "source": [
        "def Carmen(A: np.array, x: np.array, b: np.array):\n",
        "    # Get the size of the matrix A (assuming A is square)\n",
        "    n = len(A)\n",
        "\n",
        "    # Calculate the determinant of matrix A\n",
        "    detA = np.linalg.det(A)\n",
        "\n",
        "    # Iterate over each column of A\n",
        "    for i in range(n):\n",
        "        # Create a copy of matrix A to avoid modifying the original\n",
        "        Ai = A.copy()\n",
        "\n",
        "        # Replace the i-th column of Ai with the vector b\n",
        "        Ai[:, i] = b.copy()  # Use a copy of b to avoid modifying the original vector\n",
        "\n",
        "        # Calculate the determinant of the modified matrix Ai\n",
        "        detAi = np.linalg.det(Ai)\n",
        "\n",
        "        # Update the solution vector x with the result of Cramer's rule\n",
        "        x[i] = detAi / detA\n",
        "\n",
        "    # Return the solution vector x\n",
        "    return x\n"
      ],
      "metadata": {
        "id": "pXFMQai5ZqvC"
      },
      "execution_count": 8,
      "outputs": []
    },
    {
      "cell_type": "code",
      "source": [
        "# Example matrix A and vector b\n",
        "A = np.array([[2, 1], [3, -1]])\n",
        "b = np.array([8, 1])\n",
        "\n",
        "# Initialize solution vector x\n",
        "x = np.zeros_like(b, dtype=float)\n",
        "\n",
        "# Call the function\n",
        "result = Carmen(A, x, b)\n",
        "\n",
        "print(\"Solution vector x:\", result)"
      ],
      "metadata": {
        "colab": {
          "base_uri": "https://localhost:8080/"
        },
        "id": "Fi1iowoBdi0f",
        "outputId": "89c43d5b-c692-4867-c245-ef72bb637961"
      },
      "execution_count": 9,
      "outputs": [
        {
          "output_type": "stream",
          "name": "stdout",
          "text": [
            "Solution vector x: [1.8 4.4]\n"
          ]
        }
      ]
    }
  ]
}