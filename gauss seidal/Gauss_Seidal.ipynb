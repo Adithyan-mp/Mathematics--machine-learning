{
  "nbformat": 4,
  "nbformat_minor": 0,
  "metadata": {
    "colab": {
      "provenance": []
    },
    "kernelspec": {
      "name": "python3",
      "display_name": "Python 3"
    },
    "language_info": {
      "name": "python"
    }
  },
  "cells": [
    {
      "cell_type": "code",
      "execution_count": 7,
      "metadata": {
        "id": "x52MsrAH2GJg"
      },
      "outputs": [],
      "source": [
        "#import necessary library\n",
        "import numpy as np"
      ]
    },
    {
      "cell_type": "code",
      "source": [
        "# Example system of linear equations:\n",
        "A = np.array([[4, -1, 0, 0], [-1, 4, -1, 0], [0, -1, 4, -1], [0, 0, -1, 3]])\n",
        "b = np.array([15, 10, 10, 10])\n",
        "\n",
        "# Solve the system using numpy.linalg.solve()\n",
        "solution = np.linalg.solve(A, b)\n",
        "\n",
        "print(\"Solution vector x:\", solution)\n"
      ],
      "metadata": {
        "colab": {
          "base_uri": "https://localhost:8080/"
        },
        "id": "3nMtwiY-dfFy",
        "outputId": "a5555e3f-9b7c-4253-be92-36b03f55d873"
      },
      "execution_count": 8,
      "outputs": [
        {
          "output_type": "stream",
          "name": "stdout",
          "text": [
            "Solution vector x: [5. 5. 5. 5.]\n"
          ]
        }
      ]
    },
    {
      "cell_type": "code",
      "source": [
        "def Gauss_Seidal(A, x, b):\n",
        "    # Set the tolerance for convergence\n",
        "    tol = 1e-6\n",
        "    # Set the maximum number of iterations\n",
        "    MAX = 1000\n",
        "    # Get the size of the system (number of equations)\n",
        "    n = len(A)\n",
        "\n",
        "    # Iterate until convergence or maximum number of iterations\n",
        "    for i in range(MAX):\n",
        "        # Create a copy of the solution vector for convergence check\n",
        "        x_prev = np.copy(x)\n",
        "\n",
        "        # Iterate through each equation\n",
        "        for j in range(n):\n",
        "            # Initialize the sum for the current equation\n",
        "            y = 0\n",
        "            # Get the number of columns in the matrix A\n",
        "            column = len(A[j])\n",
        "\n",
        "            # Calculate the sum of the products of coefficients and variables\n",
        "            for k in range(column):\n",
        "                if j != k:\n",
        "                    y += A[j][k] * x[k]\n",
        "\n",
        "            # Update the current variable using the Gauss-Seidel formula\n",
        "            x[j] = (b[j] - y) / A[j][j]\n",
        "\n",
        "        # Check for convergence using the Euclidean norm\n",
        "        if np.linalg.norm(x - x_prev) < tol:\n",
        "            break\n",
        "\n",
        "    else:\n",
        "        # This block is executed if the loop completes without a break\n",
        "        print(\"Warning: Gauss-Seidel method did not converge within the specified number of iterations.\")\n",
        "\n",
        "    # Return the final solution vector\n",
        "    return x\n",
        "\n",
        "# Example usage:\n",
        "A = [[4, -1, 0, 0], [-1, 4, -1, 0], [0, -1, 4, -1], [0, 0, -1, 3]]\n",
        "b = [15, 10, 10, 10]\n",
        "x = [0.0,0.0,0.0,0.0]\n",
        "\n",
        "result = Gauss_Seidal(A, x, b)\n",
        "print(\"the value of x : \" ,result)"
      ],
      "metadata": {
        "colab": {
          "base_uri": "https://localhost:8080/"
        },
        "id": "01QMN4XHeH4g",
        "outputId": "104760e3-26c0-4be3-8155-f99885b3b51b"
      },
      "execution_count": 9,
      "outputs": [
        {
          "output_type": "stream",
          "name": "stdout",
          "text": [
            "the value of x :  [4.999999852750587, 4.999999894403132, 4.999999950672612, 4.9999999835575375]\n"
          ]
        }
      ]
    },
    {
      "cell_type": "code",
      "source": [
        "#using numpy solve\n",
        "np.linalg.solve(A,b)"
      ],
      "metadata": {
        "id": "LOf7Q9E9jJWi",
        "colab": {
          "base_uri": "https://localhost:8080/"
        },
        "outputId": "0c6738d0-50fa-45e9-f233-c962296e3f7c"
      },
      "execution_count": 10,
      "outputs": [
        {
          "output_type": "execute_result",
          "data": {
            "text/plain": [
              "array([5., 5., 5., 5.])"
            ]
          },
          "metadata": {},
          "execution_count": 10
        }
      ]
    }
  ]
}