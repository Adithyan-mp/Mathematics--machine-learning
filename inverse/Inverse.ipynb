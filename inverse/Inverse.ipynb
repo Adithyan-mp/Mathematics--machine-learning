{
  "nbformat": 4,
  "nbformat_minor": 0,
  "metadata": {
    "colab": {
      "provenance": []
    },
    "kernelspec": {
      "name": "python3",
      "display_name": "Python 3"
    },
    "language_info": {
      "name": "python"
    }
  },
  "cells": [
    {
      "cell_type": "code",
      "execution_count": 1,
      "metadata": {
        "id": "YNYSw0dh52V6"
      },
      "outputs": [],
      "source": [
        "import numpy as np"
      ]
    },
    {
      "cell_type": "code",
      "source": [
        "def inverse(matrix: np.array):\n",
        "    # Get the size of the matrix\n",
        "    n = len(matrix)\n",
        "\n",
        "    # Create an identity matrix of the same size\n",
        "    I = np.eye(n)\n",
        "\n",
        "    # Perform Gaussian elimination with partial pivoting\n",
        "    for i in range(0,n-1):\n",
        "        # Check for singularity\n",
        "        if matrix[i, i] == 0:\n",
        "            raise ValueError(\"Matrix is singular and cannot be inverted.\")\n",
        "\n",
        "        for j in range(i+1, n):\n",
        "            # Calculate the factor for row reduction\n",
        "            factor = matrix[j, i] / matrix[i, i]\n",
        "\n",
        "            # Update both the identity matrix and the input matrix\n",
        "            I[j,i:] -= (factor * I[i, i:])\n",
        "            matrix[j, i:] -= (factor * matrix[i, i:])\n",
        "            # print(matrix)\n",
        "\n",
        "    # Check for singularity\n",
        "    if matrix[n-1, n-1] == 0:\n",
        "        raise ValueError(\"Matrix is singular and cannot be inverted.\")\n",
        "\n",
        "    # Perform back substitution\n",
        "    for i in range(n-1, 0, -1):\n",
        "        for j in range(i-1, -1, -1):\n",
        "            # Calculate the factor for back substitution\n",
        "            factor = matrix[j, i] / matrix[i, i]\n",
        "\n",
        "            # Update both the identity matrix and the input matrix\n",
        "            I[j, :] -= factor * I[i, :]\n",
        "            matrix[j, :] -= factor * matrix[i, :]\n",
        "\n",
        "    # Normalize the diagonal elements to 1\n",
        "    for i in range(n):\n",
        "        if matrix[i, i] != 1:\n",
        "            factor = matrix[i, i]\n",
        "            matrix[i, :] /= factor\n",
        "            I[i, :] /= factor\n",
        "\n",
        "    # Return the inverse matrix\n",
        "    return I\n",
        "\n",
        "# Example usage:\n",
        "# Uncomment and replace the following lines with your own matrix\n",
        "A = np.array([[2.0, -1.0, 0.0], [-1.0, 2.0, -1.0], [0.0, -1.0, 2.0]], dtype=float)\n",
        "#print(\"Result using numpy:\\n\", np.linalg.inv(A))\n",
        "result = inverse(A)\n",
        "print(\"Original Matrix:\\n\", A)\n",
        "print(\"Inverse Matrix:\\n\", result)"
      ],
      "metadata": {
        "colab": {
          "base_uri": "https://localhost:8080/"
        },
        "id": "uW_X0mkJ56gw",
        "outputId": "8b2e3bb2-15fe-42b3-8987-ba10616aeaba"
      },
      "execution_count": 12,
      "outputs": [
        {
          "output_type": "stream",
          "name": "stdout",
          "text": [
            "Result using numpy:\n",
            " [[0.75 0.5  0.25]\n",
            " [0.5  1.   0.5 ]\n",
            " [0.25 0.5  0.75]]\n",
            "Original Matrix:\n",
            " [[1. 0. 0.]\n",
            " [0. 1. 0.]\n",
            " [0. 0. 1.]]\n",
            "Inverse Matrix:\n",
            " [[0.66666667 0.5        0.25      ]\n",
            " [0.33333333 1.         0.5       ]\n",
            " [0.         0.5        0.75      ]]\n"
          ]
        }
      ]
    }
  ]
}