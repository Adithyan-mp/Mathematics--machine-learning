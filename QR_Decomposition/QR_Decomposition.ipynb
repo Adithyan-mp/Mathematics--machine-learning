{
  "nbformat": 4,
  "nbformat_minor": 0,
  "metadata": {
    "colab": {
      "provenance": []
    },
    "kernelspec": {
      "name": "python3",
      "display_name": "Python 3"
    },
    "language_info": {
      "name": "python"
    }
  },
  "cells": [
    {
      "cell_type": "code",
      "execution_count": 6,
      "metadata": {
        "id": "pRtbcKf1-t9G"
      },
      "outputs": [],
      "source": [
        "import numpy as np"
      ]
    },
    {
      "cell_type": "code",
      "source": [
        "def projection(x: np.array, y: np.array):\n",
        "  return (np.dot(x, y) / np.linalg.norm(y)**2) * y"
      ],
      "metadata": {
        "id": "cjKLIl45-8hS"
      },
      "execution_count": 7,
      "outputs": []
    },
    {
      "cell_type": "code",
      "source": [
        "def gram_schmidt(x: np.array):\n",
        "    # Check if there's only one vector; no orthogonalization needed\n",
        "    if len(x) == 1:\n",
        "        return x\n",
        "\n",
        "    n = len(x)  # Number of rows\n",
        "    m = len(x[0])  # Number of columns\n",
        "\n",
        "    # Initialize matrices for orthogonalized vectors (e) and intermediate vectors (u)\n",
        "    e = np.zeros((n, m))\n",
        "    u = np.zeros((n, m))\n",
        "\n",
        "    # Set the first vector in u and normalize to get the first vector in e\n",
        "    u[:, 0] = x[:, 0]\n",
        "    e[:, 0] = u[:, 0] / np.linalg.norm(u[:, 0])\n",
        "\n",
        "    # Iterate through the remaining vectors\n",
        "    for i in range(1, m):\n",
        "        # Copy the original vector to u\n",
        "        u[:, i] = x[:, i]\n",
        "\n",
        "        # Subtract the projections onto previously orthogonalized vectors\n",
        "        for j in range(i):\n",
        "            u[:, i] -= projection(x[:, i], u[:, j])\n",
        "\n",
        "        # Handle the case where the vector becomes a zero vector\n",
        "        if np.linalg.norm(u[:, i]) > 0:\n",
        "            # Normalize and store the orthogonalized vector in e\n",
        "            e[:, i] = u[:, i] / np.linalg.norm(u[:, i])\n",
        "        else:\n",
        "            # If the vector is zero, set the corresponding vector in e to zero\n",
        "            e[:, i] = 0\n",
        "\n",
        "    return e\n"
      ],
      "metadata": {
        "id": "P7QMh29X_NJD"
      },
      "execution_count": 8,
      "outputs": []
    },
    {
      "cell_type": "code",
      "source": [
        "def QR(A: np.array):\n",
        "    n = len(A)\n",
        "    m = len(A[0])\n",
        "\n",
        "    # Perform Gram-Schmidt orthogonalization\n",
        "    e = gram_schmidt(A)\n",
        "\n",
        "    # Initialize the upper triangular matrix R\n",
        "    R = np.zeros((n, m), dtype=float)\n",
        "\n",
        "    # Compute the entries of R\n",
        "    for i in range(n):\n",
        "        for j in range(i, m):\n",
        "            R[i, j] = np.dot(A[:, j], e[:, i])\n",
        "\n",
        "    return e, R\n"
      ],
      "metadata": {
        "id": "SqCyoCyI_vZb"
      },
      "execution_count": 9,
      "outputs": []
    },
    {
      "cell_type": "code",
      "source": [
        "# Define a matrix A\n",
        "A = np.array([[1, 1, 0],\n",
        "              [1, 0, 1],\n",
        "              [0, 1, 1]])\n",
        "\n",
        "# Perform QR decomposition\n",
        "Q, R = QR(A)\n",
        "# Print the results\n",
        "print(\"Matrix A:\")\n",
        "print(A)\n",
        "\n",
        "print(\"\\nOrthogonalized Matrix Q:\")\n",
        "print(Q)\n",
        "\n",
        "print(\"\\nUpper Triangular Matrix R:\")\n",
        "print(R)\n"
      ],
      "metadata": {
        "colab": {
          "base_uri": "https://localhost:8080/"
        },
        "id": "64kDPsC5B9Tj",
        "outputId": "0cd395ae-7a8f-4821-c73c-a201e1614c44"
      },
      "execution_count": 10,
      "outputs": [
        {
          "output_type": "stream",
          "name": "stdout",
          "text": [
            "Matrix A:\n",
            "[[1 1 0]\n",
            " [1 0 1]\n",
            " [0 1 1]]\n",
            "\n",
            "Orthogonalized Matrix Q:\n",
            "[[ 0.70710678  0.40824829 -0.57735027]\n",
            " [ 0.70710678 -0.40824829  0.57735027]\n",
            " [ 0.          0.81649658  0.57735027]]\n",
            "\n",
            "Upper Triangular Matrix R:\n",
            "[[1.41421356 0.70710678 0.70710678]\n",
            " [0.         1.22474487 0.40824829]\n",
            " [0.         0.         1.15470054]]\n"
          ]
        }
      ]
    }
  ]
}