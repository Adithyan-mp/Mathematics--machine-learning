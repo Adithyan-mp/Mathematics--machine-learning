{
  "nbformat": 4,
  "nbformat_minor": 0,
  "metadata": {
    "colab": {
      "provenance": []
    },
    "kernelspec": {
      "name": "python3",
      "display_name": "Python 3"
    },
    "language_info": {
      "name": "python"
    }
  },
  "cells": [
    {
      "cell_type": "code",
      "source": [
        "import numpy as np"
      ],
      "metadata": {
        "id": "aSA845D2NL29"
      },
      "execution_count": 1,
      "outputs": []
    },
    {
      "cell_type": "code",
      "execution_count": 5,
      "metadata": {
        "colab": {
          "base_uri": "https://localhost:8080/"
        },
        "id": "ULltg7mTM7gO",
        "outputId": "af78fc51-8636-40f6-9463-b7b1cca0a0e3"
      },
      "outputs": [
        {
          "output_type": "stream",
          "name": "stdout",
          "text": [
            "True\n"
          ]
        }
      ],
      "source": [
        "def LinearMapping(A: np.ndarray, d1: int, d2: int) -> bool:\n",
        "    x1 = np.random.rand(d1)\n",
        "    x2 = np.random.rand(d2)\n",
        "    lamda = np.random.randint(1, 9)\n",
        "\n",
        "    # Check if the linear mapping conditions hold\n",
        "    is_linear = np.all(np.dot(A, (x1 + x2)) == (np.dot(A, x1) + np.dot(A, x2))) and \\\n",
        "                np.all(np.dot(A, (lamda * x1)) == (np.dot(A, x1)) * lamda)\n",
        "\n",
        "    return is_linear\n",
        "\n",
        "# Example usage:\n",
        "# Generate a random 3x3 matrix A\n",
        "A = np.array([[2,0],\n",
        "             [0,2]])\n",
        "\n",
        "# Check if linear mapping conditions hold for vectors of dimension 3 and 3\n",
        "result = LinearMapping(A, 2, 2)\n",
        "\n",
        "# Print the result\n",
        "print(result)\n"
      ]
    }
  ]
}