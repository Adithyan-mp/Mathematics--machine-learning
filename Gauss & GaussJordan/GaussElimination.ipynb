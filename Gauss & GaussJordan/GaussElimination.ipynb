{
  "nbformat": 4,
  "nbformat_minor": 0,
  "metadata": {
    "colab": {
      "provenance": []
    },
    "kernelspec": {
      "name": "python3",
      "display_name": "Python 3"
    },
    "language_info": {
      "name": "python"
    }
  },
  "cells": [
    {
      "cell_type": "code",
      "execution_count": 5,
      "metadata": {
        "id": "puRkLmRCjdkY"
      },
      "outputs": [],
      "source": [
        "#calling libraries\n",
        "import numpy as np"
      ]
    },
    {
      "cell_type": "code",
      "source": [
        "def Gauss(A: np.array, b: np.array):\n",
        "    \"\"\"\n",
        "    Solve a system of linear equations Ax = b using Gaussian elimination with partial pivoting.\n",
        "\n",
        "    Parameters:\n",
        "    A (numpy.array): Coefficient matrix.\n",
        "    b (numpy.array): Constant vector.\n",
        "\n",
        "    Returns:\n",
        "    numpy.array: Solution vector x.\n",
        "    \"\"\"\n",
        "    m = len(A)  # Number of rows\n",
        "    n = len(A[0])  # Number of columns\n",
        "\n",
        "    # Partial Pivoting\n",
        "    for i in range(m):\n",
        "        if A[i, i] == 0:\n",
        "            pivot = np.argmax(np.abs(A[:, i]))\n",
        "            if pivot == 0:\n",
        "                raise SystemError(\"Matrix cannot be inverted\")\n",
        "\n",
        "            A[[i, pivot]] = A[[pivot, i]]\n",
        "            b[[i, pivot]] = b[[pivot, i]]\n",
        "\n",
        "        # Elimination\n",
        "        for j in range(i + 1, n):\n",
        "            factor = A[j, i] / A[i, i]\n",
        "            A[j, i:] -= factor * A[i, i:]\n",
        "            b[j] -= factor * b[i]\n",
        "\n",
        "    # Back Substitution\n",
        "    x = np.zeros_like(b, dtype=float)\n",
        "    for i in range(n - 1, -1, -1):\n",
        "        x[i] = (b[i] - np.dot(A[i, i + 1:], x[i + 1:])) / A[i, i]\n",
        "\n",
        "    return x\n",
        "\n",
        "# Example usage:\n",
        "A = np.array([[2, -1, 1],\n",
        "              [1, 1, -1],\n",
        "              [1, 3, 3]],dtype=float)\n",
        "b = np.array([8, -1, 7])\n",
        "\n",
        "solution = Gauss(A, b)\n",
        "print(\"Solution vector x:\", solution)\n"
      ],
      "metadata": {
        "id": "kqB2cQccjg3b",
        "colab": {
          "base_uri": "https://localhost:8080/"
        },
        "outputId": "bf201bd9-de23-4bb7-db79-34316c3a5c8a"
      },
      "execution_count": 12,
      "outputs": [
        {
          "output_type": "stream",
          "name": "stdout",
          "text": [
            "[-1.  1.]\n",
            "Solution vector x: [ 2.33333333 -1.          2.33333333]\n"
          ]
        }
      ]
    },
    {
      "cell_type": "code",
      "source": [
        "np.linalg.solve(A,b)"
      ],
      "metadata": {
        "colab": {
          "base_uri": "https://localhost:8080/"
        },
        "id": "abBaoaXMULAf",
        "outputId": "1c6b077b-3a1d-4bf7-8bb1-07724b09d636"
      },
      "execution_count": 7,
      "outputs": [
        {
          "output_type": "execute_result",
          "data": {
            "text/plain": [
              "array([ 2.33333333, -1.        ,  2.33333333])"
            ]
          },
          "metadata": {},
          "execution_count": 7
        }
      ]
    },
    {
      "cell_type": "code",
      "source": [],
      "metadata": {
        "colab": {
          "base_uri": "https://localhost:8080/"
        },
        "id": "bzsXG5KjaGdS",
        "outputId": "3ebfb1ec-8d6a-4496-f553-d0f5f34cd22f"
      },
      "execution_count": 8,
      "outputs": [
        {
          "output_type": "execute_result",
          "data": {
            "text/plain": [
              "array([-1.5])"
            ]
          },
          "metadata": {},
          "execution_count": 8
        }
      ]
    }
  ]
}