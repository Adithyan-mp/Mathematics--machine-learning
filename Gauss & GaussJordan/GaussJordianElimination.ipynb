{
  "nbformat": 4,
  "nbformat_minor": 0,
  "metadata": {
    "colab": {
      "provenance": []
    },
    "kernelspec": {
      "name": "python3",
      "display_name": "Python 3"
    },
    "language_info": {
      "name": "python"
    }
  },
  "cells": [
    {
      "cell_type": "code",
      "execution_count": 5,
      "metadata": {
        "id": "puRkLmRCjdkY"
      },
      "outputs": [],
      "source": [
        "#calling libraries\n",
        "import numpy as np"
      ]
    },
    {
      "cell_type": "code",
      "source": [
        "import numpy as np\n",
        "\n",
        "def Gauss(A: np.array, b: np.array):\n",
        "    \"\"\"\n",
        "    Solve a system of linear equations Ax = b using Gaussian elimination with partial pivoting.\n",
        "\n",
        "    Parameters:\n",
        "    A (numpy.array): Coefficient matrix.\n",
        "    b (numpy.array): Constant vector.\n",
        "\n",
        "    Returns:\n",
        "    numpy.array: Solution vector x.\n",
        "    \"\"\"\n",
        "    m = len(A)  # Number of rows\n",
        "    n = len(A[0])  # Number of columns\n",
        "\n",
        "    # Partial Pivoting\n",
        "    for i in range(m):\n",
        "        if A[i, i] == 0:\n",
        "            pivot = np.argmax(np.abs(A[:, i]))\n",
        "            if pivot == 0:\n",
        "                raise SystemError(\"Matrix cannot be inverted\")\n",
        "\n",
        "            A[[i, pivot]] = A[[pivot, i]]\n",
        "            b[[i, pivot]] = b[[pivot, i]]\n",
        "\n",
        "        # Elimination\n",
        "        for j in range(i + 1, n):\n",
        "            factor = A[j, i] / A[i, i]\n",
        "            A[j, i:] -= factor * A[i, i:]\n",
        "            b[j] -= factor * b[i]\n",
        "\n",
        "    # Back Substitution\n",
        "    for i in range(m - 1, -1, -1):\n",
        "        for j in range(i - 1, -1, -1):\n",
        "            factor = A[j, i] / A[i, i]\n",
        "            A[j, i:] -= factor * A[i, i:]\n",
        "            b[j] -= factor * b[i]\n",
        "\n",
        "    # Normalize\n",
        "    for i in range(m):\n",
        "      if(A[i,i]!=1):\n",
        "        div=A[i,i]\n",
        "        A[i,i]/=div\n",
        "        b[i]/=div\n",
        "\n",
        "    return b\n",
        "\n",
        "# Example usage:\n",
        "A = np.array([[1, 0, 0],\n",
        "              [0, 1, 0],\n",
        "              [0, 0, 1]], dtype=float)\n",
        "b = np.array([8, -1, 7])\n",
        "solution = Gauss(A, b)\n",
        "print(\"Solution vector x:\", solution)\n"
      ],
      "metadata": {
        "id": "kqB2cQccjg3b",
        "colab": {
          "base_uri": "https://localhost:8080/"
        },
        "outputId": "4121e407-a788-4631-e193-031cee52b62f"
      },
      "execution_count": 23,
      "outputs": [
        {
          "output_type": "stream",
          "name": "stdout",
          "text": [
            "[ 8. -1.  7.]\n",
            "Solution vector x: [ 8 -1  7]\n"
          ]
        }
      ]
    }
  ]
}