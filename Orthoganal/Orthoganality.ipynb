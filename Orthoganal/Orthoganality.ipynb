{
  "nbformat": 4,
  "nbformat_minor": 0,
  "metadata": {
    "colab": {
      "provenance": []
    },
    "kernelspec": {
      "name": "python3",
      "display_name": "Python 3"
    },
    "language_info": {
      "name": "python"
    }
  },
  "cells": [
    {
      "cell_type": "code",
      "execution_count": 1,
      "metadata": {
        "id": "lHDi4T9kam26"
      },
      "outputs": [],
      "source": [
        "import numpy as np"
      ]
    },
    {
      "cell_type": "code",
      "source": [
        "def angle(x: np.array, y: np.array):\n",
        "    # Calculate the cosine of the angle between vectors x and y\n",
        "    cos_theta = np.dot(x, y) / (np.linalg.norm(x) * np.linalg.norm(y))\n",
        "\n",
        "    # Clip the cosine value to ensure it is within the valid range [-1.0, 1.0]\n",
        "    cos_theta = np.clip(cos_theta, -1.0, 1.0)\n",
        "\n",
        "    # Calculate and return the angle (in radians) using the arccosine function\n",
        "    return np.arccos(cos_theta)\n"
      ],
      "metadata": {
        "id": "MbOivIuTauWE"
      },
      "execution_count": 5,
      "outputs": []
    },
    {
      "cell_type": "code",
      "source": [
        "def is_orthogonal(x: np.array, y: np.array):\n",
        "    # Check if the angle between x and y is exactly zero\n",
        "    if angle(x, y) == 0:\n",
        "        # If the angle is exactly zero, the vectors are considered orthogonal\n",
        "        return True\n",
        "\n",
        "    # If the angle is not zero, the vectors are not orthogonal\n",
        "    return False\n"
      ],
      "metadata": {
        "id": "25MTUcbadAyu"
      },
      "execution_count": 6,
      "outputs": []
    }
  ]
}