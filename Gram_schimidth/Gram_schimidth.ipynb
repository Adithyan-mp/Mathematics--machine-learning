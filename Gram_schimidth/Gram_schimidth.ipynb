{
  "nbformat": 4,
  "nbformat_minor": 0,
  "metadata": {
    "colab": {
      "provenance": []
    },
    "kernelspec": {
      "name": "python3",
      "display_name": "Python 3"
    },
    "language_info": {
      "name": "python"
    }
  },
  "cells": [
    {
      "cell_type": "code",
      "execution_count": 1,
      "metadata": {
        "id": "lHDi4T9kam26"
      },
      "outputs": [],
      "source": [
        "import numpy as np"
      ]
    },
    {
      "cell_type": "code",
      "source": [
        "def projection(x: np.array, y: np.array):\n",
        "    \"\"\"\n",
        "    Calculate the projection of vector x onto vector y.\n",
        "\n",
        "    Parameters:\n",
        "    - x (numpy array): The vector to be projected.\n",
        "    - y (numpy array): The vector onto which x is projected.\n",
        "\n",
        "    Returns:\n",
        "    numpy array: The projection of vector x onto vector y.\n",
        "\n",
        "    Explanation:\n",
        "    The projection of vector x onto vector y is calculated using the formula:\n",
        "    proj_y(x) = (dot(x, y) / ||y||^2) * y\n",
        "    where dot(x, y) is the dot product of x and y, ||y|| is the norm of y.\n",
        "\n",
        "    The formula involves scaling the vector y by the scalar (dot(x, y) / ||y||^2),\n",
        "    resulting in the vector projection of x onto the direction of y.\n",
        "    \"\"\"\n",
        "    return (np.dot(x, y) / np.linalg.norm(y)**2) * y\n"
      ],
      "metadata": {
        "id": "MbOivIuTauWE"
      },
      "execution_count": 10,
      "outputs": []
    },
    {
      "cell_type": "code",
      "source": [
        "def gram_schmidt(x: np.array):\n",
        "    \"\"\"\n",
        "    Apply the Gram-Schmidt process to orthogonalize a set of vectors.\n",
        "\n",
        "    Parameters:\n",
        "    - x (numpy array): Matrix where each column represents a vector to be orthogonalized.\n",
        "\n",
        "    Returns:\n",
        "    numpy array: Matrix containing orthogonalized vectors.\n",
        "\n",
        "    Description:\n",
        "    The Gram-Schmidt process is used to orthogonalize a set of vectors. The function takes\n",
        "    a matrix x where each column represents a vector, and it returns a matrix of\n",
        "    orthogonalized vectors.\n",
        "\n",
        "    The process involves initializing two matrices: e for orthogonalized vectors and u for\n",
        "    intermediate vectors. The first vector in u is set to the first vector in x, and the\n",
        "    corresponding vector in e is normalized.\n",
        "\n",
        "    Then, for each subsequent vector in x, the function subtracts its projections onto\n",
        "    previously orthogonalized vectors in u. If a vector becomes a zero vector during this\n",
        "    process, the corresponding vector in e is set to zero.\n",
        "\n",
        "    The resulting matrix e contains the orthogonalized vectors.\n",
        "    \"\"\"\n",
        "    # Check if there's only one vector; no orthogonalization needed\n",
        "    if len(x) == 1:\n",
        "        return x\n",
        "\n",
        "    n = len(x)  # Number of rows\n",
        "    m = len(x[0])  # Number of columns\n",
        "\n",
        "    # Initialize matrices for orthogonalized vectors (e) and intermediate vectors (u)\n",
        "    e = np.zeros((n, m))\n",
        "    u = np.zeros((n, m))\n",
        "\n",
        "    # Set the first vector in u and normalize to get the first vector in e\n",
        "    u[:, 0] = x[:, 0]\n",
        "    e[:, 0] = u[:, 0] / np.linalg.norm(u[:, 0])\n",
        "\n",
        "    # Iterate through the remaining vectors\n",
        "    for i in range(1, m):\n",
        "        # Copy the original vector to u\n",
        "        u[:, i] = x[:, i]\n",
        "\n",
        "        # Subtract the projections onto previously orthogonalized vectors\n",
        "        for j in range(i):\n",
        "            u[:, i] -= projection(x[:, i], u[:, j])\n",
        "\n",
        "        # Handle the case where the vector becomes a zero vector\n",
        "        if np.linalg.norm(u[:, i]) > 0:\n",
        "            # Normalize and store the orthogonalized vector in e\n",
        "            e[:, i] = u[:, i] / np.linalg.norm(u[:, i])\n",
        "        else:\n",
        "            # If the vector is zero, set the corresponding vector in e to zero\n",
        "            e[:, i] = 0\n",
        "\n",
        "    return e\n"
      ],
      "metadata": {
        "id": "4UwLkwVie_z7"
      },
      "execution_count": 13,
      "outputs": []
    },
    {
      "cell_type": "code",
      "source": [
        "# Example set of vectors (columns of the matrix)\n",
        "v1 = np.array([1, 1, 0])\n",
        "v2 = np.array([1, 0, 1])\n",
        "v3 = np.array([0, 1, 1])\n",
        "\n",
        "# Create a matrix with these vectors as columns\n",
        "matrix_x = np.column_stack((v1, v2, v3))\n",
        "\n",
        "# Apply the Gram-Schmidt process\n",
        "orthogonalized_matrix = gram_schmidt(matrix_x)\n",
        "\n",
        "# Display the original and orthogonalized matrices\n",
        "print(\"Original Matrix:\")\n",
        "print(matrix_x)\n",
        "\n",
        "print(\"\\nOrthogonalized Matrix:\")\n",
        "print(orthogonalized_matrix)\n"
      ],
      "metadata": {
        "colab": {
          "base_uri": "https://localhost:8080/"
        },
        "id": "64sdXDwdkbj6",
        "outputId": "4c571cf4-eb0e-4386-abcc-d9d38fa37489"
      },
      "execution_count": 14,
      "outputs": [
        {
          "output_type": "stream",
          "name": "stdout",
          "text": [
            "Original Matrix:\n",
            "[[1 1 0]\n",
            " [1 0 1]\n",
            " [0 1 1]]\n",
            "\n",
            "Orthogonalized Matrix:\n",
            "[[ 0.70710678  0.40824829 -0.57735027]\n",
            " [ 0.70710678 -0.40824829  0.57735027]\n",
            " [ 0.          0.81649658  0.57735027]]\n"
          ]
        }
      ]
    }
  ]
}