{
  "nbformat": 4,
  "nbformat_minor": 0,
  "metadata": {
    "colab": {
      "provenance": []
    },
    "kernelspec": {
      "name": "python3",
      "display_name": "Python 3"
    },
    "language_info": {
      "name": "python"
    }
  },
  "cells": [
    {
      "cell_type": "code",
      "source": [
        "import numpy as np"
      ],
      "metadata": {
        "id": "aSA845D2NL29"
      },
      "execution_count": 5,
      "outputs": []
    },
    {
      "cell_type": "code",
      "source": [
        "# Function to calculate the p-norm of a numpy array\n",
        "# The p-norm of a vector x in R^n, denoted as ||x||_p, is defined as:\n",
        "# ||x||_p = (|x_1|^p + |x_2|^p + ... + |x_n|^p)^(1/p)\n",
        "# where x_i represents the i-th element of the vector x, and p is a positive integer.\n",
        "def p_norm(x: np.array, p: int):\n",
        "    norm = 0\n",
        "    for i in x:\n",
        "        norm += abs(i)**p\n",
        "    return norm**(1/p)\n",
        "\n",
        "\n",
        "\n"
      ],
      "metadata": {
        "id": "FTvLC-VvKlN2"
      },
      "execution_count": 6,
      "outputs": []
    },
    {
      "cell_type": "code",
      "execution_count": 7,
      "metadata": {
        "id": "ULltg7mTM7gO"
      },
      "outputs": [],
      "source": [
        "# Function to calculate the Euclidean distance between two numpy arrays\n",
        "def d(x: np.array, y: np.array):\n",
        "    return p_norm(x - y, 2)\n"
      ]
    },
    {
      "cell_type": "code",
      "source": [
        "#example of the code\n",
        "x = np.array([1, 2, 3])\n",
        "y = np.array([4, 5, 6])\n",
        "\n",
        "# Calculate Euclidean distance between x and y\n",
        "distance = d(x, y)\n",
        "print(distance)\n"
      ],
      "metadata": {
        "colab": {
          "base_uri": "https://localhost:8080/"
        },
        "id": "7UjwAAY0MMFb",
        "outputId": "a0207d74-126f-43f7-dfa4-35b6320e18e0"
      },
      "execution_count": 9,
      "outputs": [
        {
          "output_type": "stream",
          "name": "stdout",
          "text": [
            "5.196152422706632\n",
            "5.196152422706632\n"
          ]
        }
      ]
    }
  ]
}