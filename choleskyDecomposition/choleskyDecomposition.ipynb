{
  "nbformat": 4,
  "nbformat_minor": 0,
  "metadata": {
    "colab": {
      "provenance": []
    },
    "kernelspec": {
      "name": "python3",
      "display_name": "Python 3"
    },
    "language_info": {
      "name": "python"
    }
  },
  "cells": [
    {
      "cell_type": "code",
      "execution_count": null,
      "metadata": {
        "id": "ukyzELas1tyD"
      },
      "outputs": [],
      "source": [
        "import numpy as np"
      ]
    },
    {
      "cell_type": "code",
      "source": [
        "def Cholesky(A):\n",
        "    # Get the size of the matrix A\n",
        "    n = len(A)\n",
        "\n",
        "    # Initialize the lower triangular matrix L\n",
        "    L = np.zeros((n, n), dtype=float)\n",
        "\n",
        "    # Perform Cholesky decomposition\n",
        "    for i in range(n):\n",
        "        for k in range(i):  # Loop to calculate diagonal elements of L\n",
        "            L[i, i] += L[i, k]**2\n",
        "        L[i, i] = np.sqrt(A[i, i] - L[i, i])\n",
        "\n",
        "        for j in range(i+1, n):  # Loop to calculate non-diagonal elements of L\n",
        "            for k in range(i):\n",
        "                L[j, i] += L[j, k] * L[i, k]\n",
        "            L[j, i] = (A[j, i] - L[j, i]) / L[i, i]\n",
        "\n",
        "    return L\n"
      ],
      "metadata": {
        "id": "AVH-lvy813rh"
      },
      "execution_count": null,
      "outputs": []
    },
    {
      "cell_type": "code",
      "source": [
        "# Example usage:\n",
        "A = np.array([[4, 12, -16], [12, 37, -43], [-16, -43, 98]])\n",
        "L = Cholesky(A)\n",
        "# Display the results\n",
        "print(\"Matrix A:\")\n",
        "print(A)\n",
        "print(\"\\nCholesky Decomposition:\")\n",
        "print(\"L:\")\n",
        "print(L)\n"
      ],
      "metadata": {
        "colab": {
          "base_uri": "https://localhost:8080/"
        },
        "id": "_w-jCfnO4tmg",
        "outputId": "b31d67be-3aed-4c91-b2d6-bb7faf68f468"
      },
      "execution_count": null,
      "outputs": [
        {
          "output_type": "stream",
          "name": "stdout",
          "text": [
            "Matrix A:\n",
            "[[  4  12 -16]\n",
            " [ 12  37 -43]\n",
            " [-16 -43  98]]\n",
            "\n",
            "Cholesky Decomposition:\n",
            "L:\n",
            "[[ 2.  0.  0.]\n",
            " [ 6.  1.  0.]\n",
            " [-8.  5.  3.]]\n"
          ]
        }
      ]
    }
  ]
}