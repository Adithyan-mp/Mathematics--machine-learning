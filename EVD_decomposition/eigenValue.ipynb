{
  "nbformat": 4,
  "nbformat_minor": 0,
  "metadata": {
    "colab": {
      "provenance": []
    },
    "kernelspec": {
      "name": "python3",
      "display_name": "Python 3"
    },
    "language_info": {
      "name": "python"
    }
  },
  "cells": [
    {
      "cell_type": "code",
      "execution_count": 1,
      "metadata": {
        "id": "ZsDtR5AFf66H"
      },
      "outputs": [],
      "source": [
        "import numpy as np"
      ]
    },
    {
      "cell_type": "code",
      "source": [
        "def iteration(A, tol=1e-6, max_iterations=1000):\n",
        "    \"\"\"\n",
        "    Perform power iteration to find the dominant eigenvalue and eigenvector of a matrix.\n",
        "\n",
        "    Parameters:\n",
        "        A (numpy.ndarray): Input square matrix.\n",
        "        tol (float): Convergence tolerance for the change in eigenvector.\n",
        "        max_iterations (int): Maximum number of iterations.\n",
        "\n",
        "    Returns:\n",
        "        eigenvalue (float): Dominant eigenvalue.\n",
        "        eigenvector (numpy.ndarray): Corresponding eigenvector.\n",
        "    \"\"\"\n",
        "    n = A.shape[0]\n",
        "\n",
        "    # Random initial vector\n",
        "    v = np.random.rand(n)\n",
        "\n",
        "    for iteration in range(max_iterations):\n",
        "        # Power iteration\n",
        "        v1 = np.dot(A, v)\n",
        "\n",
        "        # Normalize the vector\n",
        "        v1_norm = np.linalg.norm(v1)\n",
        "        v1 /= v1_norm\n",
        "\n",
        "        # Check for convergence\n",
        "        if np.linalg.norm(v - v1) < tol:\n",
        "            break\n",
        "\n",
        "        v = v1\n",
        "\n",
        "    # Rayleigh quotient for the dominant eigenvalue\n",
        "    eigenvalue = np.dot(v, np.dot(A, v)) / np.dot(v, v)\n",
        "\n",
        "    return eigenvalue, v\n",
        "\n",
        "def eigenvalue_decomposition(A, tol=1e-6, max_iterations=1000):\n",
        "    \"\"\"\n",
        "    Perform eigenvalue decomposition of a matrix.\n",
        "\n",
        "    Parameters:\n",
        "        A (numpy.ndarray): Input square matrix.\n",
        "        tol (float): Convergence tolerance for the change in eigenvector.\n",
        "        max_iterations (int): Maximum number of iterations for power iteration.\n",
        "\n",
        "    Returns:\n",
        "        Q (numpy.ndarray): Matrix of eigenvectors.\n",
        "        Lambda (numpy.ndarray): Diagonal matrix of eigenvalues.\n",
        "    \"\"\"\n",
        "    n = A.shape[0]\n",
        "    Q = np.zeros((n, n))\n",
        "    Lambda = np.zeros((n, n))\n",
        "\n",
        "    for i in range(n):\n",
        "        # Power iteration for each eigenvalue\n",
        "        eigenvalue, eigenvector = iteration(A, tol, max_iterations)\n",
        "\n",
        "        # Deflate the matrix\n",
        "        A = A - eigenvalue * np.outer(eigenvector, eigenvector)\n",
        "\n",
        "        # Store eigenvalues and eigenvectors\n",
        "        Lambda[i, i] = eigenvalue\n",
        "        Q[:, i] = eigenvector\n",
        "\n",
        "    return Q, Lambda\n",
        "\n",
        "# Example usage\n",
        "if __name__ == \"__main__\":\n",
        "    # Define a square matrix\n",
        "    A = np.array([[4, -2], [1, 1]])\n",
        "\n",
        "    # Perform eigenvalue decomposition\n",
        "    eigenvectors, eigenvalues = eigenvalue_decomposition(A)\n",
        "\n",
        "    # Display the results\n",
        "    print(\"Original Matrix:\")\n",
        "    print(A)\n",
        "    print(\"\\nEigenvalues:\")\n",
        "    print(eigenvalues)\n",
        "    print(\"\\nEigenvectors:\")\n",
        "    print(eigenvectors)\n"
      ],
      "metadata": {
        "colab": {
          "base_uri": "https://localhost:8080/"
        },
        "id": "obUCwWG_lrYN",
        "outputId": "7bbf1c95-07b8-45ad-a2c9-85c2e40c9bc2"
      },
      "execution_count": 3,
      "outputs": [
        {
          "output_type": "stream",
          "name": "stdout",
          "text": [
            "Original Matrix:\n",
            "[[ 4 -2]\n",
            " [ 1  1]]\n",
            "\n",
            "Eigenvalues:\n",
            "[[3.00000723 0.        ]\n",
            " [0.         1.99998915]]\n",
            "\n",
            "Eigenvectors:\n",
            "[[ 0.89442827 -0.99227784]\n",
            " [ 0.44721144  0.12403501]]\n"
          ]
        }
      ]
    }
  ]
}