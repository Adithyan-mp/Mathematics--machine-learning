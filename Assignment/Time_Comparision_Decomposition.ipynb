{
  "cells": [
    {
      "cell_type": "code",
      "execution_count": null,
      "metadata": {
        "colab": {
          "background_save": true
        },
        "id": "eUHTs1mTFaRs"
      },
      "outputs": [],
      "source": [
        "import numpy as np\n",
        "import time"
      ]
    },
    {
      "cell_type": "code",
      "execution_count": null,
      "metadata": {
        "colab": {
          "background_save": true
        },
        "id": "elp38fb1F5nu"
      },
      "outputs": [],
      "source": [
        "def lu(matrix: np.array):\n",
        "    # taking the length of the row (square matrix)\n",
        "    n = len(matrix)\n",
        "    # taking the length of the column\n",
        "    n1 = len(matrix[0])\n",
        "    if n != n1:\n",
        "        return -1  # Return -1 if the matrix is not square\n",
        "\n",
        "    # initializing P, L, U matrices\n",
        "    P = np.eye(n)  # P is an identity matrix to start with\n",
        "    L = np.eye(n)  # L is initialized as an identity matrix\n",
        "    U = matrix.copy()  # U is a copy of the original matrix\n",
        "\n",
        "    # Start measuring the execution time\n",
        "    start_time_LU = time.time()\n",
        "    for i in range(n-1):\n",
        "        # finding the largest element column-wise\n",
        "        pivot_index = np.argmax(np.abs(U[i:, i])) + i  # i is added to correct the index of the matrix\n",
        "\n",
        "        # partial pivoting (switch the initial row with the pivot row to arrange the increasing order of the pivot element)\n",
        "        U[[i, pivot_index], :] = U[[pivot_index, i], :]\n",
        "        L[[i, pivot_index], :] = L[[pivot_index, i], :]\n",
        "        P[[i, pivot_index], :] = P[[pivot_index, i], :]\n",
        "\n",
        "        # Gauss elimination\n",
        "        for j in range(i+1, n):\n",
        "            factor = U[j, i] / U[i, i]\n",
        "            L[j, i] = factor  # Store the multiplier in the L matrix\n",
        "            U[j, i:] = U[j, i:] - (factor * U[i, i:])  # Apply the row operation\n",
        "    end_time_LU = time.time()\n",
        "\n",
        "    return P, L, U,start_time_LU,end_time_LU\n",
        "\n"
      ]
    },
    {
      "cell_type": "code",
      "execution_count": null,
      "metadata": {
        "colab": {
          "background_save": true
        },
        "id": "nN3Xn-XjHxUc"
      },
      "outputs": [],
      "source": [
        "def Cholesky(A):\n",
        "    # Get the size of the matrix A\n",
        "    n = len(A)\n",
        "\n",
        "    # Initialize the lower triangular matrix L\n",
        "    L = np.zeros((n, n), dtype=float)\n",
        "\n",
        "    start_time_cho=time.time()\n",
        "    # Perform Cholesky decomposition\n",
        "    for i in range(n):\n",
        "        for k in range(i):  # Loop to calculate diagonal elements of L\n",
        "            L[i, i] += L[i, k]**2\n",
        "        L[i, i] = np.sqrt(A[i, i] - L[i, i])\n",
        "\n",
        "        for j in range(i+1, n):  # Loop to calculate non-diagonal elements of L\n",
        "            for k in range(i):\n",
        "                L[j, i] += L[j, k] * L[i, k]\n",
        "            L[j, i] = (A[j, i] - L[j, i]) / L[i, i]\n",
        "    end_time_cho = time.time()\n",
        "    return L,start_time_cho,end_time_cho\n"
      ]
    },
    {
      "cell_type": "code",
      "execution_count": null,
      "metadata": {
        "colab": {
          "background_save": true
        },
        "id": "u7qq7WSoIiu2"
      },
      "outputs": [],
      "source": [
        "def projection(x: np.array, y: np.array):\n",
        "  return (np.dot(x, y) / np.linalg.norm(y)**2) * y\n",
        "\n",
        "def gram_schmidt(x: np.array):\n",
        "    # Check if there's only one vector; no orthogonalization needed\n",
        "    if len(x) == 1:\n",
        "        return x\n",
        "\n",
        "    n = len(x)  # Number of rows\n",
        "    m = len(x[0])  # Number of columns\n",
        "\n",
        "    # Initialize matrices for orthogonalized vectors (e) and intermediate vectors (u)\n",
        "    e = np.zeros((n, m))\n",
        "    u = np.zeros((n, m))\n",
        "\n",
        "    # Set the first vector in u and normalize to get the first vector in e\n",
        "    u[:, 0] = x[:, 0]\n",
        "    e[:, 0] = u[:, 0] / np.linalg.norm(u[:, 0])\n",
        "\n",
        "    # Iterate through the remaining vectors\n",
        "    for i in range(1, m):\n",
        "        # Copy the original vector to u\n",
        "        u[:, i] = x[:, i]\n",
        "\n",
        "        # Subtract the projections onto previously orthogonalized vectors\n",
        "        for j in range(i):\n",
        "            u[:, i] -= projection(x[:, i], u[:, j])\n",
        "\n",
        "        # Handle the case where the vector becomes a zero vector\n",
        "        if np.linalg.norm(u[:, i]) > 0:\n",
        "            # Normalize and store the orthogonalized vector in e\n",
        "            e[:, i] = u[:, i] / np.linalg.norm(u[:, i])\n",
        "        else:\n",
        "            # If the vector is zero, set the corresponding vector in e to zero\n",
        "            e[:, i] = 0\n",
        "\n",
        "    return e\n",
        "\n",
        "def QR(A: np.array):\n",
        "    n = len(A)\n",
        "    m = len(A[0])\n",
        "\n",
        "    # Initialize the upper triangular matrix R\n",
        "    R = np.zeros((n, m), dtype=float)\n",
        "\n",
        "    start_time_QR=time.time()\n",
        "    # Perform Gram-Schmidt orthogonalization\n",
        "    e = gram_schmidt(A)\n",
        "\n",
        "\n",
        "    # Compute the entries of R\n",
        "    for i in range(n):\n",
        "        for j in range(i, m):\n",
        "            R[i, j] = np.dot(A[:, j], e[:, i])\n",
        "\n",
        "    end_time_QR=time.time()\n",
        "    return e, R,start_time_QR,end_time_QR\n"
      ]
    },
    {
      "cell_type": "code",
      "execution_count": null,
      "metadata": {
        "colab": {
          "background_save": true,
          "base_uri": "https://localhost:8080/"
        },
        "id": "T5MkBop_Ffxs",
        "outputId": "a256e03a-fe2d-4601-e817-228aef3bc6d4"
      },
      "outputs": [
        {
          "name": "stdout",
          "output_type": "stream",
          "text": [
            "[[14.16696379 12.54881591 13.59345859 ... 11.70977311 11.96296881\n",
            "  12.18012083]\n",
            " [12.54881591 14.27691873 13.30663563 ... 11.33309055 12.92158011\n",
            "  12.14991131]\n",
            " [13.59345859 13.30663563 17.1484799  ... 12.90730676 13.74061702\n",
            "  13.90125188]\n",
            " ...\n",
            " [11.70977311 11.33309055 12.90730676 ... 12.95323381 11.61153485\n",
            "  11.52410412]\n",
            " [11.96296881 12.92158011 13.74061702 ... 11.61153485 15.29716358\n",
            "  12.4931645 ]\n",
            " [12.18012083 12.14991131 13.90125188 ... 11.52410412 12.4931645\n",
            "  14.58241514]]\n"
          ]
        }
      ],
      "source": [
        "#matrix generation\n",
        "# Create a symmetric positive definite matrix\n",
        "A = np.random.rand(50, 50)\n",
        "symmetric_matrix = 0.5 * (A + A.T)\n",
        "positive_definite_matrix = symmetric_matrix @ symmetric_matrix.T\n",
        "\n",
        "# Ensure it's symmetric\n",
        "positive_definite_matrix = 0.5 * (positive_definite_matrix + positive_definite_matrix.T)\n",
        "\n",
        "print(positive_definite_matrix)\n"
      ]
    },
    {
      "cell_type": "code",
      "execution_count": null,
      "metadata": {
        "colab": {
          "background_save": true
        },
        "id": "dBiUICRbNtiM",
        "outputId": "def85ad4-98f5-4d57-e80b-2e4dc86c648d"
      },
      "outputs": [
        {
          "name": "stdout",
          "output_type": "stream",
          "text": [
            "cholesky to LU Ratio: 2.202528000921367\n"
          ]
        }
      ],
      "source": [
        "# Calculate ratios\n",
        "ratio_cho_to_LU = (end_time_cho - start_time_cho) / (end_time_LU - start_time_LU)\n",
        "\n",
        "# Print the ratio\n",
        "print(\"cholesky to LU Ratio:\", ratio_cho_to_LU)\n"
      ]
    },
    {
      "cell_type": "code",
      "execution_count": null,
      "metadata": {
        "colab": {
          "background_save": true
        },
        "id": "O5HdN-ouOmqZ",
        "outputId": "a5df837d-73b7-4321-b55a-f575b19144a0"
      },
      "outputs": [
        {
          "name": "stdout",
          "output_type": "stream",
          "text": [
            "cholesky to QR Ratio: 0.6805996708038614\n"
          ]
        }
      ],
      "source": [
        "# Calculate ratios\n",
        "ratio_cho_to_QR = (end_time_cho - start_time_cho) / (end_time_QR - start_time_QR)\n",
        "\n",
        "# Print the ratio\n",
        "print(\"cholesky to QR Ratio:\", ratio_cho_to_QR)"
      ]
    }
  ],
  "metadata": {
    "colab": {
      "provenance": []
    },
    "kernelspec": {
      "display_name": "Python 3",
      "name": "python3"
    },
    "language_info": {
      "name": "python"
    }
  },
  "nbformat": 4,
  "nbformat_minor": 0
}